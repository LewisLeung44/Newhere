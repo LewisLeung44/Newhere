{
 "cells": [
  {
   "cell_type": "markdown",
   "id": "3ff9d68d-a00f-4e0f-a2b6-1e072d5c4a90",
   "metadata": {
    "tags": []
   },
   "source": [
    "# Data Science Tools and Ecosystem"
   ]
  },
  {
   "cell_type": "code",
   "execution_count": null,
   "id": "f8c3cc1a-fba7-4c2e-b729-28c1a07abd93",
   "metadata": {},
   "outputs": [],
   "source": []
  },
  {
   "cell_type": "markdown",
   "id": "7422a850-d6a1-4882-b6ae-f54ff69d7671",
   "metadata": {
    "tags": []
   },
   "source": [
    "In this notebook, Data Science Tools and Ecosystem are summarized."
   ]
  },
  {
   "cell_type": "markdown",
   "id": "44125c98-bb28-4244-8d65-816350d89461",
   "metadata": {},
   "source": [
    "**Objectives:**\n",
    "- List popular languages for data science\n",
    "- List commonly used libraries by data science\n",
    "- List open source data science tools\n",
    "- List examples of evaluating arithmetic expressions"
   ]
  },
  {
   "cell_type": "code",
   "execution_count": null,
   "id": "0921b870-30d7-4fb0-8f4c-e82af4a4492e",
   "metadata": {},
   "outputs": [],
   "source": []
  },
  {
   "cell_type": "markdown",
   "id": "4b047276-6d58-43a3-a861-48dc87c5aab8",
   "metadata": {},
   "source": [
    "Some of the popular languages that Data Scientists use are:\n",
    "1. R\n",
    "2. Python\n",
    "3. SQL"
   ]
  },
  {
   "cell_type": "code",
   "execution_count": null,
   "id": "a5f85918-23c7-499c-aec4-289034a9163c",
   "metadata": {},
   "outputs": [],
   "source": []
  },
  {
   "cell_type": "markdown",
   "id": "819b7f24-4c0a-4515-b364-823eb0ba1c3e",
   "metadata": {},
   "source": [
    "Some of the commonly used libraries used by Data Scientists include:\n",
    "1. Pandas\n",
    "2. NumPy\n",
    "3. Scikit-learn "
   ]
  },
  {
   "cell_type": "code",
   "execution_count": null,
   "id": "0b352e02-2c8f-46d7-8fac-d33b8c2696aa",
   "metadata": {},
   "outputs": [],
   "source": []
  },
  {
   "cell_type": "markdown",
   "id": "d4147132-6378-4693-8515-e19412e82de4",
   "metadata": {
    "tags": []
   },
   "source": [
    "### Data Science Tools\n",
    "| Open Source Tools|\n",
    "|-----------------|\n",
    "|Apache Spark|\n",
    "|Jupyter Notebooks|\n",
    "|Pytorch|"
   ]
  },
  {
   "cell_type": "code",
   "execution_count": null,
   "id": "3c63c2a1-2fee-4e4d-a8c5-028301cfb273",
   "metadata": {},
   "outputs": [],
   "source": []
  },
  {
   "cell_type": "markdown",
   "id": "70196bc1-ff24-4b1e-ae8e-a6ea1c196fc1",
   "metadata": {},
   "source": [
    "### Below are a few examples of evaluating arithmetic expressions in Python"
   ]
  },
  {
   "cell_type": "code",
   "execution_count": null,
   "id": "2fb03573-778b-4ba6-998f-9605fe77eae3",
   "metadata": {},
   "outputs": [],
   "source": []
  },
  {
   "cell_type": "markdown",
   "id": "415ab0ca-90e9-4a27-afcb-a1a19133749f",
   "metadata": {},
   "source": [
    "This a simple arithmetic expression to mutiply then add integers."
   ]
  },
  {
   "cell_type": "code",
   "execution_count": 3,
   "id": "2d73036b-b13e-4d53-a6c3-ad463f9ed110",
   "metadata": {
    "tags": []
   },
   "outputs": [
    {
     "data": {
      "text/plain": [
       "17"
      ]
     },
     "execution_count": 3,
     "metadata": {},
     "output_type": "execute_result"
    }
   ],
   "source": [
    "(3*4)+5"
   ]
  },
  {
   "cell_type": "code",
   "execution_count": null,
   "id": "6ed7bbed-bc1b-4cae-8f5a-005867039ecc",
   "metadata": {},
   "outputs": [],
   "source": []
  },
  {
   "cell_type": "markdown",
   "id": "5c81ca3d-9ba2-47ad-bee8-37d183cc090f",
   "metadata": {},
   "source": [
    "This will convert 200 minutes to hours by diving by 60."
   ]
  },
  {
   "cell_type": "code",
   "execution_count": 23,
   "id": "75bec909-0e6a-4cf7-bc5a-671a85c8457e",
   "metadata": {
    "tags": []
   },
   "outputs": [
    {
     "name": "stdout",
     "output_type": "stream",
     "text": [
      "3.3333333333333335 hrs\n"
     ]
    }
   ],
   "source": [
    "minutes=200\n",
    "hours=minutes/60\n",
    "print(hours,\"hrs\")"
   ]
  },
  {
   "cell_type": "code",
   "execution_count": null,
   "id": "f3446f87-5a0a-4299-99be-b42ab091a15f",
   "metadata": {},
   "outputs": [],
   "source": []
  },
  {
   "cell_type": "markdown",
   "id": "12eee142-b7b7-411e-9798-dbe502180f4b",
   "metadata": {},
   "source": [
    "## Author\n",
    "Tianlang Liang, Lewis"
   ]
  },
  {
   "cell_type": "code",
   "execution_count": null,
   "id": "4ab9f7b1-2857-41ef-a89e-ee21056c3f6e",
   "metadata": {},
   "outputs": [],
   "source": []
  }
 ],
 "metadata": {
  "kernelspec": {
   "display_name": "Python",
   "language": "python",
   "name": "conda-env-python-py"
  },
  "language_info": {
   "codemirror_mode": {
    "name": "ipython",
    "version": 3
   },
   "file_extension": ".py",
   "mimetype": "text/x-python",
   "name": "python",
   "nbconvert_exporter": "python",
   "pygments_lexer": "ipython3",
   "version": "3.7.12"
  }
 },
 "nbformat": 4,
 "nbformat_minor": 5
}
